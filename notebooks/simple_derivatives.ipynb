{
 "cells": [
  {
   "cell_type": "code",
   "execution_count": 4,
   "id": "1b4413b7",
   "metadata": {},
   "outputs": [
    {
     "name": "stdout",
     "output_type": "stream",
     "text": [
      "Collecting matplotlib\n",
      "  Downloading matplotlib-3.10.6-cp310-cp310-win_amd64.whl (8.1 MB)\n",
      "                                              0.0/8.1 MB ? eta -:--:--\n",
      "                                              0.0/8.1 MB ? eta -:--:--\n",
      "                                              0.0/8.1 MB 1.3 MB/s eta 0:00:07\n",
      "                                              0.1/8.1 MB 762.6 kB/s eta 0:00:11\n",
      "                                              0.1/8.1 MB 901.1 kB/s eta 0:00:09\n",
      "     -                                        0.3/8.1 MB 1.4 MB/s eta 0:00:06\n",
      "     -                                        0.4/8.1 MB 1.5 MB/s eta 0:00:06\n",
      "     --                                       0.4/8.1 MB 1.7 MB/s eta 0:00:05\n",
      "     --                                       0.6/8.1 MB 1.7 MB/s eta 0:00:05\n",
      "     ---                                      0.7/8.1 MB 2.1 MB/s eta 0:00:04\n",
      "     ----                                     0.9/8.1 MB 2.4 MB/s eta 0:00:04\n",
      "     -----                                    1.2/8.1 MB 2.6 MB/s eta 0:00:03\n",
      "     ------                                   1.3/8.1 MB 2.7 MB/s eta 0:00:03\n",
      "     -------                                  1.6/8.1 MB 2.9 MB/s eta 0:00:03\n",
      "     --------                                 1.8/8.1 MB 2.9 MB/s eta 0:00:03\n",
      "     ---------                                2.0/8.1 MB 3.2 MB/s eta 0:00:02\n",
      "     ----------                               2.1/8.1 MB 3.1 MB/s eta 0:00:02\n",
      "     ----------                               2.2/8.1 MB 3.1 MB/s eta 0:00:02\n",
      "     ----------                               2.2/8.1 MB 3.1 MB/s eta 0:00:02\n",
      "     ----------                               2.2/8.1 MB 3.1 MB/s eta 0:00:02\n",
      "     ----------                               2.2/8.1 MB 2.6 MB/s eta 0:00:03\n",
      "     ------------                             2.5/8.1 MB 2.8 MB/s eta 0:00:03\n",
      "     ------------                             2.6/8.1 MB 2.7 MB/s eta 0:00:03\n",
      "     -------------                            2.7/8.1 MB 2.8 MB/s eta 0:00:02\n",
      "     --------------                           3.0/8.1 MB 2.9 MB/s eta 0:00:02\n",
      "     --------------                           3.0/8.1 MB 2.8 MB/s eta 0:00:02\n",
      "     ----------------                         3.3/8.1 MB 3.0 MB/s eta 0:00:02\n",
      "     -----------------                        3.5/8.1 MB 3.0 MB/s eta 0:00:02\n",
      "     ------------------                       3.8/8.1 MB 3.2 MB/s eta 0:00:02\n",
      "     -------------------                      4.0/8.1 MB 3.2 MB/s eta 0:00:02\n",
      "     --------------------                     4.1/8.1 MB 3.2 MB/s eta 0:00:02\n",
      "     ---------------------                    4.3/8.1 MB 3.3 MB/s eta 0:00:02\n",
      "     ----------------------                   4.6/8.1 MB 3.4 MB/s eta 0:00:02\n",
      "     ------------------------                 4.9/8.1 MB 3.5 MB/s eta 0:00:01\n",
      "     ------------------------                 5.0/8.1 MB 3.4 MB/s eta 0:00:01\n",
      "     --------------------------               5.3/8.1 MB 3.5 MB/s eta 0:00:01\n",
      "     ---------------------------              5.5/8.1 MB 3.5 MB/s eta 0:00:01\n",
      "     ----------------------------             5.8/8.1 MB 3.7 MB/s eta 0:00:01\n",
      "     -----------------------------            6.0/8.1 MB 3.7 MB/s eta 0:00:01\n",
      "     -------------------------------          6.4/8.1 MB 3.8 MB/s eta 0:00:01\n",
      "     --------------------------------         6.6/8.1 MB 3.8 MB/s eta 0:00:01\n",
      "     ----------------------------------       7.0/8.1 MB 3.9 MB/s eta 0:00:01\n",
      "     -----------------------------------      7.2/8.1 MB 4.0 MB/s eta 0:00:01\n",
      "     ------------------------------------     7.5/8.1 MB 4.0 MB/s eta 0:00:01\n",
      "     -------------------------------------    7.6/8.1 MB 4.0 MB/s eta 0:00:01\n",
      "     ---------------------------------------  8.0/8.1 MB 4.0 MB/s eta 0:00:01\n",
      "     ---------------------------------------- 8.1/8.1 MB 4.0 MB/s eta 0:00:00\n",
      "Collecting contourpy>=1.0.1 (from matplotlib)\n",
      "  Downloading contourpy-1.3.2-cp310-cp310-win_amd64.whl (221 kB)\n",
      "                                              0.0/221.2 kB ? eta -:--:--\n",
      "     -------------------------------------- 221.2/221.2 kB 6.8 MB/s eta 0:00:00\n",
      "Collecting cycler>=0.10 (from matplotlib)\n",
      "  Using cached cycler-0.12.1-py3-none-any.whl (8.3 kB)\n",
      "Collecting fonttools>=4.22.0 (from matplotlib)\n",
      "  Downloading fonttools-4.59.2-cp310-cp310-win_amd64.whl (2.3 MB)\n",
      "                                              0.0/2.3 MB ? eta -:--:--\n",
      "     -------                                  0.5/2.3 MB 27.5 MB/s eta 0:00:01\n",
      "     -----------                              0.7/2.3 MB 8.4 MB/s eta 0:00:01\n",
      "     ------------------                       1.0/2.3 MB 9.4 MB/s eta 0:00:01\n",
      "     ----------------------                   1.3/2.3 MB 9.1 MB/s eta 0:00:01\n",
      "     ---------------------------              1.6/2.3 MB 7.1 MB/s eta 0:00:01\n",
      "     ---------------------------------        1.9/2.3 MB 8.0 MB/s eta 0:00:01\n",
      "     --------------------------------------   2.2/2.3 MB 7.8 MB/s eta 0:00:01\n",
      "     ---------------------------------------- 2.3/2.3 MB 6.6 MB/s eta 0:00:00\n",
      "Collecting kiwisolver>=1.3.1 (from matplotlib)\n",
      "  Downloading kiwisolver-1.4.9-cp310-cp310-win_amd64.whl (73 kB)\n",
      "                                              0.0/73.7 kB ? eta -:--:--\n",
      "     ---------------------------------------- 73.7/73.7 kB 2.0 MB/s eta 0:00:00\n",
      "Requirement already satisfied: numpy>=1.23 in c:\\users\\dhruvil\\appdata\\local\\programs\\python\\python310\\lib\\site-packages (from matplotlib) (2.2.6)\n",
      "Requirement already satisfied: packaging>=20.0 in c:\\users\\dhruvil\\appdata\\local\\programs\\python\\python310\\lib\\site-packages (from matplotlib) (25.0)\n",
      "Requirement already satisfied: pillow>=8 in c:\\users\\dhruvil\\appdata\\local\\programs\\python\\python310\\lib\\site-packages (from matplotlib) (11.3.0)\n",
      "Collecting pyparsing>=2.3.1 (from matplotlib)\n",
      "  Downloading pyparsing-3.2.3-py3-none-any.whl (111 kB)\n",
      "                                              0.0/111.1 kB ? eta -:--:--\n",
      "     -------------------------------------- 111.1/111.1 kB 3.3 MB/s eta 0:00:00\n",
      "Requirement already satisfied: python-dateutil>=2.7 in c:\\users\\dhruvil\\appdata\\local\\programs\\python\\python310\\lib\\site-packages (from matplotlib) (2.9.0.post0)\n",
      "Requirement already satisfied: six>=1.5 in c:\\users\\dhruvil\\appdata\\local\\programs\\python\\python310\\lib\\site-packages (from python-dateutil>=2.7->matplotlib) (1.17.0)\n",
      "Installing collected packages: pyparsing, kiwisolver, fonttools, cycler, contourpy, matplotlib\n",
      "Successfully installed contourpy-1.3.2 cycler-0.12.1 fonttools-4.59.2 kiwisolver-1.4.9 matplotlib-3.10.6 pyparsing-3.2.3\n",
      "Note: you may need to restart the kernel to use updated packages.\n"
     ]
    },
    {
     "name": "stderr",
     "output_type": "stream",
     "text": [
      "\n",
      "[notice] A new release of pip is available: 23.1.2 -> 25.2\n",
      "[notice] To update, run: python.exe -m pip install --upgrade pip\n"
     ]
    }
   ],
   "source": [
    "%pip install matplotlib\n",
    "import math\n",
    "import numpy as np\n",
    "import matplotlib.pyplot as plt\n",
    "%matplotlib inline\n"
   ]
  },
  {
   "cell_type": "code",
   "execution_count": 8,
   "id": "7b1832b0",
   "metadata": {},
   "outputs": [],
   "source": [
    "def f(x):\n",
    "    return 3*x**2 - 4*x + 5"
   ]
  },
  {
   "cell_type": "code",
   "execution_count": 9,
   "id": "656e2ceb",
   "metadata": {},
   "outputs": [
    {
     "data": {
      "text/plain": [
       "20.0"
      ]
     },
     "execution_count": 9,
     "metadata": {},
     "output_type": "execute_result"
    }
   ],
   "source": [
    "f(3.0)"
   ]
  },
  {
   "cell_type": "code",
   "execution_count": 10,
   "id": "6e5c7015",
   "metadata": {},
   "outputs": [
    {
     "data": {
      "text/plain": [
       "array([-5.  , -4.75, -4.5 , -4.25, -4.  , -3.75, -3.5 , -3.25, -3.  ,\n",
       "       -2.75, -2.5 , -2.25, -2.  , -1.75, -1.5 , -1.25, -1.  , -0.75,\n",
       "       -0.5 , -0.25,  0.  ,  0.25,  0.5 ,  0.75,  1.  ,  1.25,  1.5 ,\n",
       "        1.75,  2.  ,  2.25,  2.5 ,  2.75,  3.  ,  3.25,  3.5 ,  3.75,\n",
       "        4.  ,  4.25,  4.5 ,  4.75])"
      ]
     },
     "execution_count": 10,
     "metadata": {},
     "output_type": "execute_result"
    }
   ],
   "source": [
    "xs = np.arange(-5, 5, 0.25)\n",
    "xs"
   ]
  },
  {
   "cell_type": "code",
   "execution_count": null,
   "id": "576e891c",
   "metadata": {},
   "outputs": [],
   "source": []
  }
 ],
 "metadata": {
  "kernelspec": {
   "display_name": "Python 3",
   "language": "python",
   "name": "python3"
  },
  "language_info": {
   "codemirror_mode": {
    "name": "ipython",
    "version": 3
   },
   "file_extension": ".py",
   "mimetype": "text/x-python",
   "name": "python",
   "nbconvert_exporter": "python",
   "pygments_lexer": "ipython3",
   "version": "3.10.4"
  }
 },
 "nbformat": 4,
 "nbformat_minor": 5
}
